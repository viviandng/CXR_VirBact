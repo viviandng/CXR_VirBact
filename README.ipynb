{
 "cells": [
  {
   "cell_type": "markdown",
   "metadata": {},
   "source": [
    "## Detecting Viral vs Bacterial Pneumonia from CXR with Deep Learning"
   ]
  },
  {
   "cell_type": "markdown",
   "metadata": {},
   "source": [
    "![ai_cxr.png](https://github.com/viviandng/capstone1/blob/master/images/ai_cxr.png)"
   ]
  },
  {
   "cell_type": "markdown",
   "metadata": {},
   "source": [
    "### Items in Repository:\n",
    "\n",
    "- README.md - a summary of the repository content\n",
    "- [/Step01_Data_Cleaning](https://github.com/viviandng/capstone1/tree/master/Step01_Data_Cleaning)- codes for transfering images into the correct folder\n",
    "- [/Step02_Training](https://github.com/viviandng/capstone1/tree/master/Step02_Training)- codes for models (Baseline dense, CNN, DenseNet121) \n",
    "- [/Step03_Testing](https://github.com/viviandng/capstone1/tree/master/Step03_Testing)- notebook with models and their performance\n",
    "- [Final_notebook](https://github.com/viviandng/capstone1/blob/master/Final_notebook.ipynb)- final notebook narrated with the best model \n",
    "- [/presentation](https://github.com/viviandng/capstone1/tree/master/presentation)- pdf file of the final presentation\n",
    "- [/image](https://github.com/viviandng/capstone1/tree/master/images)- all images "
   ]
  },
  {
   "cell_type": "markdown",
   "metadata": {},
   "source": [
    "### Prompt:\n",
    "\n",
    "According to the [American Thoracic Society](https://www.thoracic.org/patients/patient-resources/resources/top-pneumonia-facts.pdf), Pneumonia is the world’s leading cause of death among children under 5 years of age, killing approximately 2,400 children a day. Pnemonia is also the number 1 most common reason for children to be hospitalized in the US. The managment of this disease costs the US over $13B every year. Although there are adequate treatment (oral and IV antibiotics, IV fluids, oxygen and rehydration therapy), the cause of pneumonia must be identified and treated promptly to prevent the misuse or lack of antibiotics that will cause long term complications and death. </br>\n",
    "\n",
    "The goal of this project is to train and build a deep learning model that can classify whether a given patient has viral or bacterial pneumonia, given a chest x-ray image. This model will allow us to diagose the patient correctly and provide a proper course of treatment whether it is with or without antibiotics."
   ]
  },
  {
   "cell_type": "markdown",
   "metadata": {},
   "source": [
    "### Dataset:"
   ]
  },
  {
   "cell_type": "markdown",
   "metadata": {},
   "source": [
    "This deep learning model has been trained and validated using 4,273 pediatric CXR images from the University of California San Diego's image classification dataset: [Kermany Daniel, Zhang Kang, Goldbaum Michael (2018). Labeled Optical Coherence Tomography (OCT) and Chest X-Ray Images for Classification. Mendeley Data, v2, http://dx.doi.org/10.17632/rscbjbr9sj.2](https://data.mendeley.com/datasets/rscbjbr9sj/2)"
   ]
  },
  {
   "cell_type": "markdown",
   "metadata": {},
   "source": [
    "### Methodology:\n",
    "\n",
    "1.\tUse os to properly store images:\n",
    "   - Download the dataset and extract only pneumonia chest x-ray images \n",
    "   - Transfer images to proper folders (bacterial vs viral folders for both train and test folders)\n",
    "   - Create a validation folder by taking the first 134 bacterial images and 113 viral images from train folder\n",
    "2.\tReshape images:\n",
    "   - Resize = 224x224 \n",
    "   - Rescale = 1./255\n",
    "3.\tTrain models:\n",
    "   - Create a baseline model with dense layers (fully connected)\n",
    "   - Create a CNN model\n",
    "   - Create a model with transfer learning (DenseNet121)\n",
    "4.\tEvaluate models by comparing accuracy, F1, precision, recall, loss scores\n",
    "5.\tTest the data on the best model (highest F1 score)"
   ]
  },
  {
   "cell_type": "markdown",
   "metadata": {},
   "source": [
    "### Validation Results:\n",
    "\n",
    "| Model          | Accuracy | Precision |  F1   | **Recall** | Loss  |\n",
    "| -------------- | :------: | :-------: | :---: | :--------: | ----- |\n",
    "| Baseline Dense |  0.725   |   0.720   | 0.800 |    .900    | 0.580 |\n",
    "| CNN            |  0.449   |   0.492   | 0.460 |   0.433    | 2.154 |\n",
    "| DenseNet121    |  0.458   |   0.458   | 0.458 |   0.458    | 1.174 |"
   ]
  },
  {
   "cell_type": "markdown",
   "metadata": {},
   "source": [
    "### Test Results with Baseline Dense Model:"
   ]
  },
  {
   "cell_type": "markdown",
   "metadata": {},
   "source": [
    "| Accuracy | Precision |  F1   | **Recall** | Loss  |\n",
    "| :------: | :-------: | :---: | :--------: | ----- |\n",
    "|  0.867   |   0.871   | 0.896 |    0.922   | 0.461 |\n",
    "\n",
    "![confusion matrix.png](https://github.com/viviandng/capstone1/blob/master/images/confusion_matrix.png)"
   ]
  },
  {
   "cell_type": "markdown",
   "metadata": {},
   "source": [
    "### Demo with Baseline Dense Model"
   ]
  },
  {
   "cell_type": "markdown",
   "metadata": {},
   "source": [
    "![confusion matrix.png](https://github.com/viviandng/capstone1/blob/master/images/confusion_matrix.png)\n",
    "For live web application, click [HERE](http://52.90.15.79:5000/)"
   ]
  },
  {
   "cell_type": "markdown",
   "metadata": {},
   "source": [
    "### Recommendations:\n",
    "\n",
    "- Incorporate model to IT softwares (ex: epic) in hospital settings to assist health professionals diagnose the cause of pneumonia so patients can receive the proper treatment plan\n",
    "- To enhance patient outcomes, use model under the supervision of a primary care physician "
   ]
  },
  {
   "cell_type": "markdown",
   "metadata": {},
   "source": [
    "### Next Steps:\n",
    "\n",
    "- Improve the current model with additional chest x-ray data from adult patients \n",
    "- Train model with other transfer learning models (ex: VGG16)\n",
    "- Create a multi-label classifciation for normal, viral, bacterial pneumonia CXR\n",
    "- Explore machine learning solutions that detect whether a patient's pulmonary consolidation on CXR is due to heart failure or pneumonia"
   ]
  },
  {
   "cell_type": "markdown",
   "metadata": {},
   "source": [
    "### Link to resources\n",
    "- [American Thoracic Society](https://www.thoracic.org/professionals/career-development/residents-medical-students/ats-reading-list/adult/pneumonia.php)\n",
    "- [Stanford CheXNet Model](https://stanfordmlgroup.github.io/projects/chexnet/)\n",
    "- [Udacity TensorFlow Free Course](https://www.udacity.com/course/intro-to-tensorflow-for-deep-learning--ud187)\n",
    "- [Keras API](https://keras.io/api/)\n",
    "- [Web Application Code by Xin Fu](https://github.com/mtobeiyf/keras-flask-deploy-web-app) "
   ]
  }
 ],
 "metadata": {
  "kernelspec": {
   "display_name": "Python 3",
   "language": "python",
   "name": "python3"
  },
  "language_info": {
   "codemirror_mode": {
    "name": "ipython",
    "version": 3
   },
   "file_extension": ".py",
   "mimetype": "text/x-python",
   "name": "python",
   "nbconvert_exporter": "python",
   "pygments_lexer": "ipython3",
   "version": "3.7.4"
  }
 },
 "nbformat": 4,
 "nbformat_minor": 2
}
