{
 "cells": [
  {
   "cell_type": "markdown",
   "metadata": {},
   "source": [
    "## Set up notebook"
   ]
  },
  {
   "cell_type": "code",
   "execution_count": 14,
   "metadata": {},
   "outputs": [
    {
     "name": "stdout",
     "output_type": "stream",
     "text": [
      "env: PYTHONHASHSEED=0\n"
     ]
    }
   ],
   "source": [
    "%env PYTHONHASHSEED=0\n",
    "#import libaries\n",
    "import numpy as np\n",
    "from numpy.random import seed\n",
    "import random as python_random\n",
    "import tensorflow as tf\n",
    "\n",
    "# The below is necessary for starting Numpy generated random numbers in a well-defined initial state.\n",
    "np.random.seed(10)\n",
    "\n",
    "# The below is necessary for starting core Python generated random numbers in a well-defined state.\n",
    "python_random.seed(120)\n",
    "\n",
    "# The below set_seed() will make random number generation in the TensorFlow backend have a well-defined initial state.\n",
    "tf.random.set_seed(123)\n",
    "\n",
    "from tensorflow import keras\n",
    "from keras.preprocessing.image import ImageDataGenerator, array_to_img, img_to_array, load_img\n",
    "from keras import layers\n",
    "from keras import backend as K\n",
    "from keras import models\n",
    "\n",
    "import matplotlib.pyplot as plt\n",
    "%matplotlib inline\n",
    "\n",
    "from sklearn.metrics import classification_report, roc_auc_score\n",
    "import itertools\n",
    "from sklearn.metrics import confusion_matrix, r2_score, recall_score, precision_score, f1_score, accuracy_score"
   ]
  },
  {
   "cell_type": "markdown",
   "metadata": {},
   "source": [
    "## Image Preprocessing (rescale, resize, reshape)"
   ]
  },
  {
   "cell_type": "code",
   "execution_count": 15,
   "metadata": {},
   "outputs": [],
   "source": [
    "#create directory to train and test data\n",
    "train_folder = '../data/train'\n",
    "test_folder = '../data/test'"
   ]
  },
  {
   "cell_type": "code",
   "execution_count": 16,
   "metadata": {
    "scrolled": false
   },
   "outputs": [
    {
     "name": "stdout",
     "output_type": "stream",
     "text": [
      "Found 3883 images belonging to 2 classes.\n",
      "Found 390 images belonging to 2 classes.\n"
     ]
    }
   ],
   "source": [
    "# get all the train data (5216 images) and reshape them\n",
    "train_generator = ImageDataGenerator(rescale=1./255).flow_from_directory(train_folder, \n",
    "        target_size=(224, 224), batch_size = 5216)\n",
    "\n",
    "#get all the test data and reshape them\n",
    "test_generator = ImageDataGenerator(rescale=1./255).flow_from_directory(test_folder, \n",
    "        target_size=(224, 224), batch_size = 624 ) "
   ]
  },
  {
   "cell_type": "code",
   "execution_count": 17,
   "metadata": {},
   "outputs": [],
   "source": [
    "#split data to images and labels\n",
    "train_images, train_labels = next(train_generator)\n",
    "test_images, test_labels = next(test_generator)"
   ]
  },
  {
   "cell_type": "code",
   "execution_count": 18,
   "metadata": {},
   "outputs": [],
   "source": [
    "#reshape train and test images\n",
    "train_img = train_images.reshape(train_images.shape[0], -1)\n",
    "test_img = test_images.reshape(test_images.shape[0], -1)"
   ]
  },
  {
   "cell_type": "code",
   "execution_count": 19,
   "metadata": {},
   "outputs": [],
   "source": [
    "#reshape train and test labels\n",
    "train_y = np.reshape(train_labels[:,0], (3883,1))\n",
    "test_y = np.reshape(test_labels[:,0], (390,1))"
   ]
  },
  {
   "cell_type": "markdown",
   "metadata": {},
   "source": [
    "## Build a baseline model (fully connected)"
   ]
  },
  {
   "cell_type": "code",
   "execution_count": 20,
   "metadata": {},
   "outputs": [],
   "source": [
    "#create a Sequential model then add layers to it\n",
    "model = models.Sequential()\n",
    "model.add(layers.Dense(20, activation='relu', input_shape=(150528,))) \n",
    "model.add(layers.Dense(7, activation='relu'))\n",
    "model.add(layers.Dense(5, activation='relu'))\n",
    "model.add(layers.Dense(1, activation='sigmoid'))"
   ]
  },
  {
   "cell_type": "markdown",
   "metadata": {},
   "source": [
    "## Train model"
   ]
  },
  {
   "cell_type": "code",
   "execution_count": 21,
   "metadata": {
    "scrolled": false
   },
   "outputs": [
    {
     "name": "stdout",
     "output_type": "stream",
     "text": [
      "Train on 3494 samples, validate on 389 samples\n",
      "Epoch 1/10\n",
      "3494/3494 [==============================] - 7s 2ms/step - loss: 1.2401 - acc: 0.6514 - precision_1: 0.6603 - recall_1: 0.9893 - true_positives_1: 1144.5786 - true_negatives_1: 5.1357 - val_loss: 0.6517 - val_acc: 0.6350 - val_precision_1: 0.6546 - val_recall_1: 0.9905 - val_true_positives_1: 2405.6250 - val_true_negatives_1: 8.0000\n",
      "Epoch 2/10\n",
      "3494/3494 [==============================] - 5s 1ms/step - loss: 0.6208 - acc: 0.6557 - precision_1: 0.6514 - recall_1: 0.9935 - true_positives_1: 3656.6572 - true_negatives_1: 8.2929 - val_loss: 0.6241 - val_acc: 0.6350 - val_precision_1: 0.6542 - val_recall_1: 0.9952 - val_true_positives_1: 4942.6250 - val_true_negatives_1: 9.0000\n",
      "Epoch 3/10\n",
      "3494/3494 [==============================] - 5s 1ms/step - loss: 0.5906 - acc: 0.6932 - precision_1: 0.6575 - recall_1: 0.9893 - true_positives_1: 6155.9287 - true_negatives_1: 100.5571 - val_loss: 0.6023 - val_acc: 0.6941 - val_precision_1: 0.6663 - val_recall_1: 0.9781 - val_true_positives_1: 7340.6250 - val_true_negatives_1: 290.3125\n",
      "Epoch 4/10\n",
      "3494/3494 [==============================] - 5s 1ms/step - loss: 0.5772 - acc: 0.7172 - precision_1: 0.6729 - recall_1: 0.9679 - true_positives_1: 8481.9717 - true_negatives_1: 526.5000 - val_loss: 0.5947 - val_acc: 0.7095 - val_precision_1: 0.6797 - val_recall_1: 0.9602 - val_true_positives_1: 9642.5625 - val_true_negatives_1: 767.2500\n",
      "Epoch 5/10\n",
      "3494/3494 [==============================] - 5s 1ms/step - loss: 0.5689 - acc: 0.7252 - precision_1: 0.6850 - recall_1: 0.9529 - true_positives_1: 10776.7354 - true_negatives_1: 1030.6285 - val_loss: 0.5805 - val_acc: 0.7275 - val_precision_1: 0.6903 - val_recall_1: 0.9464 - val_true_positives_1: 11905.8125 - val_true_negatives_1: 1316.1875\n",
      "Epoch 6/10\n",
      "3494/3494 [==============================] - 5s 1ms/step - loss: 0.5631 - acc: 0.7215 - precision_1: 0.6941 - recall_1: 0.9404 - true_positives_1: 13008.0283 - true_negatives_1: 1612.0215 - val_loss: 0.6457 - val_acc: 0.6452 - val_precision_1: 0.6980 - val_recall_1: 0.9338 - val_true_positives_1: 14117.8125 - val_true_negatives_1: 1894.6250\n",
      "Epoch 7/10\n",
      "3494/3494 [==============================] - 5s 1ms/step - loss: 0.5629 - acc: 0.7212 - precision_1: 0.7006 - recall_1: 0.9271 - true_positives_1: 15184.2500 - true_negatives_1: 2192.7285 - val_loss: 0.5769 - val_acc: 0.7249 - val_precision_1: 0.7046 - val_recall_1: 0.9218 - val_true_positives_1: 16276.1250 - val_true_negatives_1: 2522.0625\n",
      "Epoch 8/10\n",
      "3494/3494 [==============================] - 5s 1ms/step - loss: 0.5568 - acc: 0.7304 - precision_1: 0.7076 - recall_1: 0.9180 - true_positives_1: 17371.3652 - true_negatives_1: 2841.5500 - val_loss: 0.5695 - val_acc: 0.7301 - val_precision_1: 0.7105 - val_recall_1: 0.9142 - val_true_positives_1: 18462.2500 - val_true_negatives_1: 3170.0000\n",
      "Epoch 9/10\n",
      "3494/3494 [==============================] - 5s 1ms/step - loss: 0.5643 - acc: 0.7104 - precision_1: 0.7122 - recall_1: 0.9095 - true_positives_1: 19505.8926 - true_negatives_1: 3494.6428 - val_loss: 0.6228 - val_acc: 0.6735 - val_precision_1: 0.7145 - val_recall_1: 0.9050 - val_true_positives_1: 20571.8750 - val_true_negatives_1: 3815.8750\n",
      "Epoch 10/10\n",
      "3494/3494 [==============================] - 5s 1ms/step - loss: 0.5423 - acc: 0.7438 - precision_1: 0.7171 - recall_1: 0.9016 - true_positives_1: 21628.2148 - true_negatives_1: 4187.1787 - val_loss: 0.5803 - val_acc: 0.7249 - val_precision_1: 0.7195 - val_recall_1: 0.9000 - val_true_positives_1: 22743.8750 - val_true_negatives_1: 4515.7500\n"
     ]
    }
   ],
   "source": [
    "#compile model and train data\n",
    "model.compile(optimizer='Adam',\n",
    "              loss='binary_crossentropy',\n",
    "              metrics=['acc',tf.keras.metrics.Precision(), tf.keras.metrics.Recall(), tf.keras.metrics.TruePositives(),tf.keras.metrics.TrueNegatives()])\n",
    "\n",
    "histoire = model.fit(train_img, train_y,\n",
    "                    epochs=10,\n",
    "                    batch_size=25,\n",
    "                    validation_split= 0.1, verbose = 1)"
   ]
  },
  {
   "cell_type": "code",
   "execution_count": 23,
   "metadata": {
    "scrolled": false
   },
   "outputs": [
    {
     "name": "stdout",
     "output_type": "stream",
     "text": [
      "Model: \"sequential_2\"\n",
      "_________________________________________________________________\n",
      "Layer (type)                 Output Shape              Param #   \n",
      "=================================================================\n",
      "dense_5 (Dense)              (None, 20)                3010580   \n",
      "_________________________________________________________________\n",
      "dense_6 (Dense)              (None, 7)                 147       \n",
      "_________________________________________________________________\n",
      "dense_7 (Dense)              (None, 5)                 40        \n",
      "_________________________________________________________________\n",
      "dense_8 (Dense)              (None, 1)                 6         \n",
      "=================================================================\n",
      "Total params: 3,010,773\n",
      "Trainable params: 3,010,773\n",
      "Non-trainable params: 0\n",
      "_________________________________________________________________\n"
     ]
    }
   ],
   "source": [
    "model.summary()"
   ]
  },
  {
   "cell_type": "code",
   "execution_count": 28,
   "metadata": {},
   "outputs": [],
   "source": [
    "model.save('Step02a_model.h5')"
   ]
  },
  {
   "cell_type": "code",
   "execution_count": 24,
   "metadata": {},
   "outputs": [
    {
     "data": {
      "image/png": "[encoded data removed]",
      "text/plain": [
       "<Figure size 576x576 with 2 Axes>"
      ]
     },
     "metadata": {
      "needs_background": "light"
     },
     "output_type": "display_data"
    }
   ],
   "source": [
    "#create a ROC curve to assess accuracy and loss with different epochs\n",
    "acc = histoire.history['acc']\n",
    "val_acc = histoire.history['val_acc']\n",
    "\n",
    "loss = histoire.history['loss']\n",
    "val_loss = histoire.history['val_loss']\n",
    "\n",
    "epochs_range = range(10)\n",
    "\n",
    "plt.figure(figsize=(8, 8))\n",
    "plt.subplot(1, 2, 1)\n",
    "plt.plot(epochs_range, acc, label='Training Accuracy')\n",
    "plt.plot(epochs_range, val_acc, label='Validation Accuracy')\n",
    "plt.legend(loc='lower right')\n",
    "plt.title('Training and Validation Accuracy')\n",
    "\n",
    "plt.subplot(1, 2, 2)\n",
    "plt.plot(epochs_range, loss, label='Training Loss')\n",
    "plt.plot(epochs_range, val_loss, label='Validation Loss')\n",
    "plt.legend(loc='upper right')\n",
    "plt.title('Training and Validation Loss')\n",
    "plt.show()"
   ]
  }
 ],
 "metadata": {
  "kernelspec": {
   "display_name": "Python 3",
   "language": "python",
   "name": "python3"
  },
  "language_info": {
   "codemirror_mode": {
    "name": "ipython",
    "version": 3
   },
   "file_extension": ".py",
   "mimetype": "text/x-python",
   "name": "python",
   "nbconvert_exporter": "python",
   "pygments_lexer": "ipython3",
   "version": "3.7.4"
  }
 },
 "nbformat": 4,
 "nbformat_minor": 2
}
