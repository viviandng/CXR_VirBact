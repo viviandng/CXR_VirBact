{
 "cells": [
  {
   "cell_type": "markdown",
   "metadata": {},
   "source": [
    "## Set up notebook"
   ]
  },
  {
   "cell_type": "code",
   "execution_count": 22,
   "metadata": {},
   "outputs": [
    {
     "name": "stdout",
     "output_type": "stream",
     "text": [
      "env: PYTHONHASHSEED=0\n"
     ]
    }
   ],
   "source": [
    "%env PYTHONHASHSEED=0\n",
    "#import libaries\n",
    "import numpy as np\n",
    "from numpy.random import seed\n",
    "import random as python_random\n",
    "import tensorflow as tf\n",
    "\n",
    "# The below is necessary for starting Numpy generated random numbers in a well-defined initial state.\n",
    "np.random.seed(100)\n",
    "\n",
    "# The below is necessary for starting core Python generated random numbers in a well-defined state.\n",
    "python_random.seed(100)\n",
    "\n",
    "# The below set_seed() will make random number generation in the TensorFlow backend have a well-defined initial state.\n",
    "tf.random.set_seed(123)\n",
    "\n",
    "from tensorflow import keras\n",
    "from keras.preprocessing.image import ImageDataGenerator, array_to_img, img_to_array, load_img\n",
    "from keras import layers\n",
    "from keras import backend as K\n",
    "from keras import models\n",
    "\n",
    "import matplotlib.pyplot as plt\n",
    "%matplotlib inline\n",
    "\n",
    "from sklearn.metrics import classification_report, roc_auc_score\n",
    "import itertools\n",
    "from sklearn.metrics import confusion_matrix, r2_score, recall_score, precision_score, f1_score, accuracy_score"
   ]
  },
  {
   "cell_type": "code",
   "execution_count": 23,
   "metadata": {},
   "outputs": [],
   "source": [
    "#set up function for confusion matrix\n",
    "def plot_confusion_matrix(cm, classes,\n",
    "                          normalize=False,\n",
    "                          title='Confusion matrix',\n",
    "                          cmap=plt.cm.Blues):\n",
    "    \"\"\"\n",
    "    This function prints and plots the confusion matrix.\n",
    "    Normalization can be applied by setting `normalize=True`.\n",
    "    \"\"\"\n",
    "    if normalize:\n",
    "        cm = cm.astype('float') / cm.sum(axis=1)[:, np.newaxis]\n",
    "        print(\"Normalized confusion matrix\")\n",
    "    else:\n",
    "        print('Confusion Matrix, without normalization')\n",
    "\n",
    "    print(cm)\n",
    "\n",
    "    plt.imshow(cm, interpolation='nearest', cmap=cmap)\n",
    "    plt.title(title)\n",
    "    plt.colorbar()\n",
    "    tick_marks = np.arange(len(classes))\n",
    "    plt.xticks(tick_marks, classes, rotation=45)\n",
    "    plt.yticks(tick_marks, classes)\n",
    "\n",
    "    fmt = '.2f' if normalize else 'd'\n",
    "    thresh = cm.max() / 1\n",
    "    for i, j in itertools.product(range(cm.shape[0]), range(cm.shape[1])):\n",
    "        plt.text(j, i, format(cm[i, j], fmt),\n",
    "                 horizontalalignment=\"center\",\n",
    "                 color=\"white\" if cm[i, j] > thresh else \"black\")\n",
    "    plt.tight_layout()\n",
    "    plt.ylabel('True label')\n",
    "    plt.xlabel('Predicted label')"
   ]
  },
  {
   "cell_type": "code",
   "execution_count": 24,
   "metadata": {},
   "outputs": [],
   "source": [
    "#set up evaluation metric functions\n",
    "def recall_m(y_true, y_pred):\n",
    "    true_positives = K.sum(K.round(K.clip(y_true * y_pred, 0, 1)))\n",
    "    possible_positives = K.sum(K.round(K.clip(y_true, 0, 1)))\n",
    "    recall = true_positives / (possible_positives + K.epsilon())\n",
    "    return recall\n",
    "\n",
    "def precision_m(y_true, y_pred):\n",
    "    true_positives = K.sum(K.round(K.clip(y_true * y_pred, 0, 1)))\n",
    "    predicted_positives = K.sum(K.round(K.clip(y_pred, 0, 1)))\n",
    "    precision = true_positives / (predicted_positives + K.epsilon())\n",
    "    return precision\n",
    "\n",
    "def f1_m(y_true, y_pred):\n",
    "    precision = precision_m(y_true, y_pred)\n",
    "    recall = recall_m(y_true, y_pred)\n",
    "    return 2*((precision*recall)/(precision+recall+K.epsilon()))"
   ]
  },
  {
   "cell_type": "markdown",
   "metadata": {},
   "source": [
    "## Image Preprocessing (rescale, resize, reshape)"
   ]
  },
  {
   "cell_type": "code",
   "execution_count": 25,
   "metadata": {},
   "outputs": [],
   "source": [
    "#create directory to train, test, val data\n",
    "test_folder = '../data_val/test'\n",
    "train_folder = '../data_val/train'\n",
    "val_folder = '../data_val/val'"
   ]
  },
  {
   "cell_type": "code",
   "execution_count": 26,
   "metadata": {
    "scrolled": true
   },
   "outputs": [
    {
     "name": "stdout",
     "output_type": "stream",
     "text": [
      "Found 3636 images belonging to 2 classes.\n",
      "Found 247 images belonging to 2 classes.\n",
      "Found 390 images belonging to 2 classes.\n"
     ]
    }
   ],
   "source": [
    "#rescale and resize train, val, test data\n",
    "train_generator = ImageDataGenerator(rescale=1./255).flow_from_directory(\n",
    "        train_folder, \n",
    "        target_size=(224,224), batch_size=3636)\n",
    "val_generator = ImageDataGenerator(rescale=1./255).flow_from_directory(\n",
    "        val_folder, \n",
    "        target_size=(224,224), batch_size = 247)\n",
    "test_generator = ImageDataGenerator(rescale=1./255).flow_from_directory(\n",
    "        test_folder, \n",
    "        target_size=(224,224), batch_size = 390) "
   ]
  },
  {
   "cell_type": "code",
   "execution_count": 27,
   "metadata": {},
   "outputs": [],
   "source": [
    "#split data to images and labels\n",
    "train_images, train_labels = next(train_generator)\n",
    "test_images, test_labels = next(test_generator)\n",
    "val_images, val_labels = next(val_generator)"
   ]
  },
  {
   "cell_type": "code",
   "execution_count": 28,
   "metadata": {},
   "outputs": [],
   "source": [
    "#reshape data\n",
    "train_img = train_images.reshape(train_images.shape[0], -1)\n",
    "test_img = test_images.reshape(test_images.shape[0], -1)\n",
    "val_img = val_images.reshape(val_images.shape[0], -1)\n",
    "\n",
    "train_y = np.reshape(train_labels[:,0], (3636,1))\n",
    "test_y = np.reshape(test_labels[:,0], (390,1))\n",
    "val_y = np.reshape(val_labels[:,0], (247,1))"
   ]
  },
  {
   "cell_type": "code",
   "execution_count": 29,
   "metadata": {},
   "outputs": [],
   "source": [
    "#build model\n",
    "model = models.Sequential()\n",
    "model.add(layers.Dense(20, activation='relu', input_shape=(150528,))) \n",
    "model.add(layers.Dense(7, activation='relu'))\n",
    "model.add(layers.Dense(5, activation='relu'))\n",
    "model.add(layers.Dense(1, activation='sigmoid'))"
   ]
  },
  {
   "cell_type": "code",
   "execution_count": 30,
   "metadata": {
    "scrolled": true
   },
   "outputs": [
    {
     "name": "stdout",
     "output_type": "stream",
     "text": [
      "Train on 3636 samples, validate on 247 samples\n",
      "Epoch 1/10\n",
      "3636/3636 [==============================] - 7s 2ms/step - loss: 0.6495 - acc: 0.6584 - precision_1: 0.6513 - recall_1: 0.9913 - true_positives_1: 1192.6165 - true_negatives_1: 7.8014 - val_loss: 0.7371 - val_acc: 0.5425 - val_precision_1: 0.6568 - val_recall_1: 0.9907 - val_true_positives_1: 2454.5000 - val_true_negatives_1: 13.0000\n",
      "Epoch 2/10\n",
      "3636/3636 [==============================] - 5s 1ms/step - loss: 0.6249 - acc: 0.6612 - precision_1: 0.6559 - recall_1: 0.9936 - true_positives_1: 3730.4385 - true_negatives_1: 13.0000 - val_loss: 0.6922 - val_acc: 0.5425 - val_precision_1: 0.6552 - val_recall_1: 0.9954 - val_true_positives_1: 4992.5000 - val_true_negatives_1: 13.0000\n",
      "Epoch 3/10\n",
      "3636/3636 [==============================] - 5s 1ms/step - loss: 0.5956 - acc: 0.6612 - precision_1: 0.6553 - recall_1: 0.9963 - true_positives_1: 6270.1094 - true_negatives_1: 13.0000 - val_loss: 0.7082 - val_acc: 0.5425 - val_precision_1: 0.6546 - val_recall_1: 0.9970 - val_true_positives_1: 7530.5000 - val_true_negatives_1: 13.0000\n",
      "Epoch 4/10\n",
      "3636/3636 [==============================] - 5s 1ms/step - loss: 0.5688 - acc: 0.7104 - precision_1: 0.6597 - recall_1: 0.9883 - true_positives_1: 8709.5615 - true_negatives_1: 182.3425 - val_loss: 0.7038 - val_acc: 0.6032 - val_precision_1: 0.6678 - val_recall_1: 0.9737 - val_true_positives_1: 9825.9004 - val_true_negatives_1: 442.8000\n",
      "Epoch 5/10\n",
      "3636/3636 [==============================] - 5s 1ms/step - loss: 0.5557 - acc: 0.7351 - precision_1: 0.6741 - recall_1: 0.9639 - true_positives_1: 10948.3701 - true_negatives_1: 720.2945 - val_loss: 0.7537 - val_acc: 0.5992 - val_precision_1: 0.6811 - val_recall_1: 0.9552 - val_true_positives_1: 12063.0996 - val_true_negatives_1: 1027.0000\n",
      "Epoch 6/10\n",
      "3636/3636 [==============================] - 5s 1ms/step - loss: 0.5598 - acc: 0.7310 - precision_1: 0.6865 - recall_1: 0.9472 - true_positives_1: 13175.5684 - true_negatives_1: 1327.4657 - val_loss: 0.6991 - val_acc: 0.5709 - val_precision_1: 0.6908 - val_recall_1: 0.9395 - val_true_positives_1: 14250.5000 - val_true_negatives_1: 1642.7000\n",
      "Epoch 7/10\n",
      "3636/3636 [==============================] - 5s 1ms/step - loss: 0.5457 - acc: 0.7464 - precision_1: 0.6950 - recall_1: 0.9333 - true_positives_1: 15324.4590 - true_negatives_1: 1991.6028 - val_loss: 0.7738 - val_acc: 0.5749 - val_precision_1: 0.6991 - val_recall_1: 0.9301 - val_true_positives_1: 16467.6992 - val_true_negatives_1: 2278.5000\n",
      "Epoch 8/10\n",
      "3636/3636 [==============================] - 5s 1ms/step - loss: 0.5416 - acc: 0.7461 - precision_1: 0.7029 - recall_1: 0.9261 - true_positives_1: 17576.0957 - true_negatives_1: 2611.7329 - val_loss: 0.7056 - val_acc: 0.5749 - val_precision_1: 0.7064 - val_recall_1: 0.9209 - val_true_positives_1: 18641.3008 - val_true_negatives_1: 2962.3999\n",
      "Epoch 9/10\n",
      "3636/3636 [==============================] - 5s 1ms/step - loss: 0.5386 - acc: 0.7478 - precision_1: 0.7094 - recall_1: 0.9174 - true_positives_1: 19738.0684 - true_negatives_1: 3302.9041 - val_loss: 0.7714 - val_acc: 0.5789 - val_precision_1: 0.7122 - val_recall_1: 0.9141 - val_true_positives_1: 20823.5996 - val_true_negatives_1: 3640.7000\n",
      "Epoch 10/10\n",
      "3636/3636 [==============================] - 5s 1ms/step - loss: 0.5310 - acc: 0.7489 - precision_1: 0.7146 - recall_1: 0.9118 - true_positives_1: 21924.2051 - true_negatives_1: 3986.0686 - val_loss: 0.7193 - val_acc: 0.4737 - val_precision_1: 0.7171 - val_recall_1: 0.9080 - val_true_positives_1: 22989.0996 - val_true_negatives_1: 4329.6001\n"
     ]
    }
   ],
   "source": [
    "#train model\n",
    "model.compile(optimizer='Adam',\n",
    "              loss='binary_crossentropy',\n",
    "              metrics=['acc',tf.keras.metrics.Precision(), tf.keras.metrics.Recall(), tf.keras.metrics.TruePositives(),tf.keras.metrics.TrueNegatives()])\n",
    "\n",
    "history = model.fit(train_img, train_y,\n",
    "                    epochs=10, batch_size = 25, validation_data= (val_img, val_y), verbose = 1)"
   ]
  },
  {
   "cell_type": "code",
   "execution_count": 31,
   "metadata": {},
   "outputs": [
    {
     "name": "stdout",
     "output_type": "stream",
     "text": [
      "3636/3636 [==============================] - 1s 226us/step\n"
     ]
    }
   ],
   "source": [
    "results_train = model.evaluate(train_img, train_y)"
   ]
  },
  {
   "cell_type": "code",
   "execution_count": 32,
   "metadata": {
    "scrolled": false
   },
   "outputs": [
    {
     "data": {
      "text/plain": [
       "[0.556547653032477,\n",
       " 0.7274477481842041,\n",
       " 0.7208493947982788,\n",
       " 0.8982127904891968,\n",
       " 23886.201171875,\n",
       " 4825.10546875]"
      ]
     },
     "execution_count": 32,
     "metadata": {},
     "output_type": "execute_result"
    }
   ],
   "source": [
    "results_train"
   ]
  },
  {
   "cell_type": "code",
   "execution_count": 33,
   "metadata": {},
   "outputs": [
    {
     "name": "stdout",
     "output_type": "stream",
     "text": [
      "247/247 [==============================] - 0s 235us/step\n"
     ]
    }
   ],
   "source": [
    "results_val = model.evaluate(val_img,val_y)"
   ]
  },
  {
   "cell_type": "code",
   "execution_count": 34,
   "metadata": {},
   "outputs": [
    {
     "data": {
      "text/plain": [
       "[0.7193060751386017,\n",
       " 0.4736842215061188,\n",
       " 0.7243715524673462,\n",
       " 0.8884958028793335,\n",
       " 24754.125,\n",
       " 5329.0]"
      ]
     },
     "execution_count": 34,
     "metadata": {},
     "output_type": "execute_result"
    }
   ],
   "source": [
    "results_val"
   ]
  },
  {
   "cell_type": "code",
   "execution_count": 35,
   "metadata": {},
   "outputs": [
    {
     "name": "stdout",
     "output_type": "stream",
     "text": [
      "Model: \"sequential_2\"\n",
      "_________________________________________________________________\n",
      "Layer (type)                 Output Shape              Param #   \n",
      "=================================================================\n",
      "dense_5 (Dense)              (None, 20)                3010580   \n",
      "_________________________________________________________________\n",
      "dense_6 (Dense)              (None, 7)                 147       \n",
      "_________________________________________________________________\n",
      "dense_7 (Dense)              (None, 5)                 40        \n",
      "_________________________________________________________________\n",
      "dense_8 (Dense)              (None, 1)                 6         \n",
      "=================================================================\n",
      "Total params: 3,010,773\n",
      "Trainable params: 3,010,773\n",
      "Non-trainable params: 0\n",
      "_________________________________________________________________\n"
     ]
    }
   ],
   "source": [
    "model.summary()"
   ]
  },
  {
   "cell_type": "code",
   "execution_count": 36,
   "metadata": {},
   "outputs": [
    {
     "data": {
      "image/png": "[encoded data removed]",
      "text/plain": [
       "<Figure size 576x576 with 2 Axes>"
      ]
     },
     "metadata": {
      "needs_background": "light"
     },
     "output_type": "display_data"
    }
   ],
   "source": [
    "#Create a ROC curve\n",
    "acc = history.history['acc']\n",
    "val_acc = history.history['val_acc']\n",
    "\n",
    "loss = history.history['loss']\n",
    "val_loss = history.history['val_loss']\n",
    "\n",
    "epochs_range = range(10)\n",
    "\n",
    "plt.figure(figsize=(8, 8))\n",
    "plt.subplot(1, 2, 1)\n",
    "plt.plot(epochs_range, acc, label='Training Accuracy')\n",
    "plt.plot(epochs_range, val_acc, label='Validation Accuracy')\n",
    "plt.legend(loc='lower right')\n",
    "plt.title('Training and Validation Accuracy')\n",
    "\n",
    "plt.subplot(1, 2, 2)\n",
    "plt.plot(epochs_range, loss, label='Training Loss')\n",
    "plt.plot(epochs_range, val_loss, label='Validation Loss')\n",
    "plt.legend(loc='upper right')\n",
    "plt.title('Training and Validation Loss')\n",
    "plt.show()"
   ]
  },
  {
   "cell_type": "code",
   "execution_count": 37,
   "metadata": {},
   "outputs": [
    {
     "name": "stdout",
     "output_type": "stream",
     "text": [
      "Confusion Matrix, without normalization\n",
      "[[77 36]\n",
      " [94 40]]\n"
     ]
    },
    {
     "data": {
      "image/png": "[encoded data removed]",
      "text/plain": [
       "<Figure size 432x288 with 2 Axes>"
      ]
     },
     "metadata": {
      "needs_background": "light"
     },
     "output_type": "display_data"
    }
   ],
   "source": [
    "#Create a confusion matrix\n",
    "y_pred = model.predict_classes(val_img)\n",
    "\n",
    "cm = confusion_matrix(val_y, y_pred)\n",
    "classes = ['Viral', 'Bacterial']\n",
    "plot_confusion_matrix(cm, classes,\n",
    "                      normalize=False,\n",
    "                      title='Confusion matrix')\n",
    "\n"
   ]
  },
  {
   "cell_type": "code",
   "execution_count": 40,
   "metadata": {},
   "outputs": [],
   "source": [
    "model.save('Step02b_model.h5')"
   ]
  }
 ],
 "metadata": {
  "kernelspec": {
   "display_name": "Python 3",
   "language": "python",
   "name": "python3"
  },
  "language_info": {
   "codemirror_mode": {
    "name": "ipython",
    "version": 3
   },
   "file_extension": ".py",
   "mimetype": "text/x-python",
   "name": "python",
   "nbconvert_exporter": "python",
   "pygments_lexer": "ipython3",
   "version": "3.7.4"
  }
 },
 "nbformat": 4,
 "nbformat_minor": 2
}
